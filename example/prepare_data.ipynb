{
 "cells": [
  {
   "cell_type": "code",
   "execution_count": 12,
   "id": "initial_id",
   "metadata": {
    "collapsed": true,
    "ExecuteTime": {
     "end_time": "2024-03-27T06:32:55.226495200Z",
     "start_time": "2024-03-27T06:32:55.158123600Z"
    }
   },
   "outputs": [],
   "source": [
    "from collections.abc import Generator\n",
    "from pathlib import Path\n",
    "from typing import Any\n",
    "\n",
    "import datasets\n",
    "import pandas as pd\n",
    "from datasets import Features, Sequence, Value"
   ]
  },
  {
   "cell_type": "markdown",
   "source": [
    "# 1. Prepare a univariate dataset for pre-training/fine-tuning\n",
    "In this example, we will see how to use the Hugging Face ```datasets``` library to prepare your custom datasets to use with ```uni2ts```. "
   ],
   "metadata": {
    "collapsed": false
   }
  },
  {
   "cell_type": "markdown",
   "source": [
    "Firstly, we load our data which comes in the form of a wide dataframe. Here, each column represents a _univariate_ time series."
   ],
   "metadata": {
    "collapsed": false
   },
   "id": "dc1c2c097dec4da4"
  },
  {
   "cell_type": "code",
   "outputs": [
    {
     "data": {
      "text/plain": "                          A       B       C       D       E       F       G  \\\n2021-01-01 00:00:00 -1.3378  0.1268 -0.3645 -1.0864 -2.3803 -0.2447  2.2647   \n2021-01-01 01:00:00 -1.6111  0.0926 -0.1364 -1.1613 -2.1421 -0.3477  2.4262   \n2021-01-01 02:00:00 -1.9259 -0.1420  0.1063 -1.0405 -2.1426 -0.3271  2.4434   \n2021-01-01 03:00:00 -1.9184 -0.4930  0.6269 -0.8531 -1.7060 -0.3088  2.4307   \n2021-01-01 04:00:00 -1.9168 -0.5057  0.9419 -0.7666 -1.4287 -0.4284  2.3258   \n\n                          H       I       J  \n2021-01-01 00:00:00 -0.7917  0.7071  1.3763  \n2021-01-01 01:00:00 -0.9609  0.6413  1.2750  \n2021-01-01 02:00:00 -0.9034  0.4323  0.6767  \n2021-01-01 03:00:00 -0.9602  0.3193  0.5150  \n2021-01-01 04:00:00 -1.2504  0.3660  0.1708  ",
      "text/html": "<div>\n<style scoped>\n    .dataframe tbody tr th:only-of-type {\n        vertical-align: middle;\n    }\n\n    .dataframe tbody tr th {\n        vertical-align: top;\n    }\n\n    .dataframe thead th {\n        text-align: right;\n    }\n</style>\n<table border=\"1\" class=\"dataframe\">\n  <thead>\n    <tr style=\"text-align: right;\">\n      <th></th>\n      <th>A</th>\n      <th>B</th>\n      <th>C</th>\n      <th>D</th>\n      <th>E</th>\n      <th>F</th>\n      <th>G</th>\n      <th>H</th>\n      <th>I</th>\n      <th>J</th>\n    </tr>\n  </thead>\n  <tbody>\n    <tr>\n      <th>2021-01-01 00:00:00</th>\n      <td>-1.3378</td>\n      <td>0.1268</td>\n      <td>-0.3645</td>\n      <td>-1.0864</td>\n      <td>-2.3803</td>\n      <td>-0.2447</td>\n      <td>2.2647</td>\n      <td>-0.7917</td>\n      <td>0.7071</td>\n      <td>1.3763</td>\n    </tr>\n    <tr>\n      <th>2021-01-01 01:00:00</th>\n      <td>-1.6111</td>\n      <td>0.0926</td>\n      <td>-0.1364</td>\n      <td>-1.1613</td>\n      <td>-2.1421</td>\n      <td>-0.3477</td>\n      <td>2.4262</td>\n      <td>-0.9609</td>\n      <td>0.6413</td>\n      <td>1.2750</td>\n    </tr>\n    <tr>\n      <th>2021-01-01 02:00:00</th>\n      <td>-1.9259</td>\n      <td>-0.1420</td>\n      <td>0.1063</td>\n      <td>-1.0405</td>\n      <td>-2.1426</td>\n      <td>-0.3271</td>\n      <td>2.4434</td>\n      <td>-0.9034</td>\n      <td>0.4323</td>\n      <td>0.6767</td>\n    </tr>\n    <tr>\n      <th>2021-01-01 03:00:00</th>\n      <td>-1.9184</td>\n      <td>-0.4930</td>\n      <td>0.6269</td>\n      <td>-0.8531</td>\n      <td>-1.7060</td>\n      <td>-0.3088</td>\n      <td>2.4307</td>\n      <td>-0.9602</td>\n      <td>0.3193</td>\n      <td>0.5150</td>\n    </tr>\n    <tr>\n      <th>2021-01-01 04:00:00</th>\n      <td>-1.9168</td>\n      <td>-0.5057</td>\n      <td>0.9419</td>\n      <td>-0.7666</td>\n      <td>-1.4287</td>\n      <td>-0.4284</td>\n      <td>2.3258</td>\n      <td>-1.2504</td>\n      <td>0.3660</td>\n      <td>0.1708</td>\n    </tr>\n  </tbody>\n</table>\n</div>"
     },
     "execution_count": 13,
     "metadata": {},
     "output_type": "execute_result"
    }
   ],
   "source": [
    "# Load dataframe\n",
    "url_wide = (\n",
    "    \"https://gist.githubusercontent.com/rsnirwan/c8c8654a98350fadd229b00167174ec4\"\n",
    "    \"/raw/a42101c7786d4bc7695228a0f2c8cea41340e18f/ts_wide.csv\"\n",
    ")\n",
    "df = pd.read_csv(url_wide, index_col=0, parse_dates=True)\n",
    "\n",
    "df.head()"
   ],
   "metadata": {
    "collapsed": false,
    "ExecuteTime": {
     "end_time": "2024-03-27T06:32:55.295255100Z",
     "start_time": "2024-03-27T06:32:55.167726600Z"
    }
   },
   "id": "78f79007648fce3e",
   "execution_count": 13
  },
  {
   "cell_type": "markdown",
   "source": [
    "### Method 1: Example generator function\n",
    "1. Create an example generator function, a function which yields each individual time series. Each time series consists of \n",
    "    1. target: target time series that should be predicted\n",
    "    2. start: timestamp of the first time step\n",
    "    3. freq: frequency str of time series\n",
    "    4. item_id: identifier \n",
    "    5. (optional) past_feat_dynamic_real: time series for which only the context values are known\n",
    "    6. (optional) feat_dynamic_real: time series for which the context and prediction values are known\n",
    "2. Define the schema for the features to ensure the datasets library saves the correct data types.\n",
    "3. Write the data to disk using the ```from_generator``` function."
   ],
   "metadata": {
    "collapsed": false
   },
   "id": "9f1c2c81076c49d0"
  },
  {
   "cell_type": "code",
   "outputs": [],
   "source": [
    "def example_gen_func() -> Generator[dict[str, Any]]:\n",
    "    for i in range(len(df.columns)):\n",
    "        yield {\n",
    "            \"target\": df.iloc[:, i].to_numpy(),  # array of shape (time,)\n",
    "            \"start\": df.index[0],\n",
    "            \"freq\": pd.infer_freq(df.index),\n",
    "            \"item_id\": f\"item_{i}\",\n",
    "        }"
   ],
   "metadata": {
    "collapsed": false,
    "ExecuteTime": {
     "end_time": "2024-03-27T06:32:55.295255100Z",
     "start_time": "2024-03-27T06:32:55.266166700Z"
    }
   },
   "id": "5896a61701815d0",
   "execution_count": 14
  },
  {
   "cell_type": "code",
   "outputs": [],
   "source": [
    "features = Features(\n",
    "    dict(\n",
    "        target=Sequence(Value(\"float32\")),\n",
    "        start=Value(\"timestamp[s]\"),\n",
    "        freq=Value(\"string\"),\n",
    "        item_id=Value(\"string\"),\n",
    "    )\n",
    ")"
   ],
   "metadata": {
    "collapsed": false,
    "ExecuteTime": {
     "end_time": "2024-03-27T06:32:55.296632100Z",
     "start_time": "2024-03-27T06:32:55.266166700Z"
    }
   },
   "id": "997f68f06ba2ccab",
   "execution_count": 15
  },
  {
   "cell_type": "code",
   "outputs": [
    {
     "data": {
      "text/plain": "Saving the dataset (0/1 shards):   0%|          | 0/10 [00:00<?, ? examples/s]",
      "application/vnd.jupyter.widget-view+json": {
       "version_major": 2,
       "version_minor": 0,
       "model_id": "ae71d3fc43774d099050871f3eee4a83"
      }
     },
     "metadata": {},
     "output_type": "display_data"
    }
   ],
   "source": [
    "hf_dataset = datasets.Dataset.from_generator(example_gen_func, features=features)\n",
    "hf_dataset.save_to_disk(Path(\"example_dataset_1\"))"
   ],
   "metadata": {
    "collapsed": false,
    "ExecuteTime": {
     "end_time": "2024-03-27T06:32:55.296632100Z",
     "start_time": "2024-03-27T06:32:55.266166700Z"
    }
   },
   "id": "86f35b94bc7a24c5",
   "execution_count": 16
  },
  {
   "cell_type": "markdown",
   "source": [],
   "metadata": {
    "collapsed": false
   }
  },
  {
   "cell_type": "markdown",
   "source": [
    "### Method 2: Sharded example generator function\n",
    "For larger datasets, the Hugging Face ```datasets``` library is able to use multiprocessing to speed up the generation of examples. Since the ```from_generator``` function takes as input a generator object which iterates through every example, naively using this function with multiprocessing does not lead to any speed ups. Instead, we need to provide a _sharded_ generator function, which is able to index into the specific examples based on the inputs. See the following example for a simple recipe:"
   ],
   "metadata": {
    "collapsed": false
   }
  },
  {
   "cell_type": "code",
   "outputs": [],
   "source": [
    "def sharded_example_gen_func(examples: list[int]) -> Generator[dict[str, Any]]:\n",
    "    for i in examples:\n",
    "        yield {\n",
    "            \"target\": df.iloc[:, i].to_numpy(),\n",
    "            \"start\": df.index[0],\n",
    "            \"freq\": pd.infer_freq(df.index),\n",
    "            \"item_id\": f\"item_{i}\",\n",
    "        }"
   ],
   "metadata": {
    "collapsed": false,
    "ExecuteTime": {
     "end_time": "2024-03-27T06:32:55.371389500Z",
     "start_time": "2024-03-27T06:32:55.328933500Z"
    }
   },
   "id": "d671e1f795f13469",
   "execution_count": 17
  },
  {
   "cell_type": "code",
   "outputs": [],
   "source": [
    "features = Features(\n",
    "    dict(\n",
    "        target=Sequence(Value(\"float32\")),\n",
    "        start=Value(\"timestamp[s]\"),\n",
    "        freq=Value(\"string\"),\n",
    "        item_id=Value(\"string\"),\n",
    "    )\n",
    ")"
   ],
   "metadata": {
    "collapsed": false,
    "ExecuteTime": {
     "end_time": "2024-03-27T06:32:55.371389500Z",
     "start_time": "2024-03-27T06:32:55.328933500Z"
    }
   },
   "id": "c99799fcfd02d50",
   "execution_count": 18
  },
  {
   "cell_type": "code",
   "outputs": [
    {
     "data": {
      "text/plain": "Generating train split: 0 examples [00:00, ? examples/s]",
      "application/vnd.jupyter.widget-view+json": {
       "version_major": 2,
       "version_minor": 0,
       "model_id": "e8b59e63a62a4bfbb21a7c5984f9cdc2"
      }
     },
     "metadata": {},
     "output_type": "display_data"
    },
    {
     "data": {
      "text/plain": "Saving the dataset (0/1 shards):   0%|          | 0/10 [00:00<?, ? examples/s]",
      "application/vnd.jupyter.widget-view+json": {
       "version_major": 2,
       "version_minor": 0,
       "model_id": "f3a8b40dcc84405b8ce9733242ff9b02"
      }
     },
     "metadata": {},
     "output_type": "display_data"
    }
   ],
   "source": [
    "hf_dataset = datasets.Dataset.from_generator(\n",
    "    sharded_example_gen_func,\n",
    "    features=features,\n",
    "    gen_kwargs={\"examples\": [i for i in range(len(df.columns))]},\n",
    "    num_proc=2,\n",
    ")\n",
    "hf_dataset.save_to_disk(Path(\"example_dataset_2\"))"
   ],
   "metadata": {
    "collapsed": false,
    "ExecuteTime": {
     "end_time": "2024-03-27T06:32:55.599507500Z",
     "start_time": "2024-03-27T06:32:55.329935700Z"
    }
   },
   "id": "f9c72d1c2f52d98f",
   "execution_count": 19
  },
  {
   "cell_type": "markdown",
   "source": [
    "# 2. Prepare a multivariate dataset for pre-training/fine-tuning\n",
    "Finally, we can also prepare _multivariate_ time series:"
   ],
   "metadata": {
    "collapsed": false
   },
   "id": "da2f641ee996d4b"
  },
  {
   "cell_type": "code",
   "outputs": [
    {
     "data": {
      "text/plain": "                          A       B       C       D       E       F       G  \\\n2021-01-01 00:00:00 -1.3378  0.1268 -0.3645 -1.0864 -2.3803 -0.2447  2.2647   \n2021-01-01 01:00:00 -1.6111  0.0926 -0.1364 -1.1613 -2.1421 -0.3477  2.4262   \n2021-01-01 02:00:00 -1.9259 -0.1420  0.1063 -1.0405 -2.1426 -0.3271  2.4434   \n2021-01-01 03:00:00 -1.9184 -0.4930  0.6269 -0.8531 -1.7060 -0.3088  2.4307   \n2021-01-01 04:00:00 -1.9168 -0.5057  0.9419 -0.7666 -1.4287 -0.4284  2.3258   \n\n                          H       I       J  \n2021-01-01 00:00:00 -0.7917  0.7071  1.3763  \n2021-01-01 01:00:00 -0.9609  0.6413  1.2750  \n2021-01-01 02:00:00 -0.9034  0.4323  0.6767  \n2021-01-01 03:00:00 -0.9602  0.3193  0.5150  \n2021-01-01 04:00:00 -1.2504  0.3660  0.1708  ",
      "text/html": "<div>\n<style scoped>\n    .dataframe tbody tr th:only-of-type {\n        vertical-align: middle;\n    }\n\n    .dataframe tbody tr th {\n        vertical-align: top;\n    }\n\n    .dataframe thead th {\n        text-align: right;\n    }\n</style>\n<table border=\"1\" class=\"dataframe\">\n  <thead>\n    <tr style=\"text-align: right;\">\n      <th></th>\n      <th>A</th>\n      <th>B</th>\n      <th>C</th>\n      <th>D</th>\n      <th>E</th>\n      <th>F</th>\n      <th>G</th>\n      <th>H</th>\n      <th>I</th>\n      <th>J</th>\n    </tr>\n  </thead>\n  <tbody>\n    <tr>\n      <th>2021-01-01 00:00:00</th>\n      <td>-1.3378</td>\n      <td>0.1268</td>\n      <td>-0.3645</td>\n      <td>-1.0864</td>\n      <td>-2.3803</td>\n      <td>-0.2447</td>\n      <td>2.2647</td>\n      <td>-0.7917</td>\n      <td>0.7071</td>\n      <td>1.3763</td>\n    </tr>\n    <tr>\n      <th>2021-01-01 01:00:00</th>\n      <td>-1.6111</td>\n      <td>0.0926</td>\n      <td>-0.1364</td>\n      <td>-1.1613</td>\n      <td>-2.1421</td>\n      <td>-0.3477</td>\n      <td>2.4262</td>\n      <td>-0.9609</td>\n      <td>0.6413</td>\n      <td>1.2750</td>\n    </tr>\n    <tr>\n      <th>2021-01-01 02:00:00</th>\n      <td>-1.9259</td>\n      <td>-0.1420</td>\n      <td>0.1063</td>\n      <td>-1.0405</td>\n      <td>-2.1426</td>\n      <td>-0.3271</td>\n      <td>2.4434</td>\n      <td>-0.9034</td>\n      <td>0.4323</td>\n      <td>0.6767</td>\n    </tr>\n    <tr>\n      <th>2021-01-01 03:00:00</th>\n      <td>-1.9184</td>\n      <td>-0.4930</td>\n      <td>0.6269</td>\n      <td>-0.8531</td>\n      <td>-1.7060</td>\n      <td>-0.3088</td>\n      <td>2.4307</td>\n      <td>-0.9602</td>\n      <td>0.3193</td>\n      <td>0.5150</td>\n    </tr>\n    <tr>\n      <th>2021-01-01 04:00:00</th>\n      <td>-1.9168</td>\n      <td>-0.5057</td>\n      <td>0.9419</td>\n      <td>-0.7666</td>\n      <td>-1.4287</td>\n      <td>-0.4284</td>\n      <td>2.3258</td>\n      <td>-1.2504</td>\n      <td>0.3660</td>\n      <td>0.1708</td>\n    </tr>\n  </tbody>\n</table>\n</div>"
     },
     "execution_count": 20,
     "metadata": {},
     "output_type": "execute_result"
    }
   ],
   "source": [
    "# Load dataframe\n",
    "url_wide = (\n",
    "    \"https://gist.githubusercontent.com/rsnirwan/c8c8654a98350fadd229b00167174ec4\"\n",
    "    \"/raw/a42101c7786d4bc7695228a0f2c8cea41340e18f/ts_wide.csv\"\n",
    ")\n",
    "df = pd.read_csv(url_wide, index_col=0, parse_dates=True)\n",
    "\n",
    "df.head()"
   ],
   "metadata": {
    "collapsed": false,
    "ExecuteTime": {
     "end_time": "2024-03-27T06:32:55.599507500Z",
     "start_time": "2024-03-27T06:32:55.599507500Z"
    }
   },
   "id": "4c04c75fe20ee30f",
   "execution_count": 20
  },
  {
   "cell_type": "code",
   "outputs": [],
   "source": [
    "def multivar_example_gen_func() -> Generator[dict[str, Any], None, None]:\n",
    "    yield {\n",
    "        \"target\": df.to_numpy().T,  # array of shape (var, time)\n",
    "        \"start\": df.index[0],\n",
    "        \"freq\": pd.infer_freq(df.index),\n",
    "        \"item_id\": \"item_0\",\n",
    "    }"
   ],
   "metadata": {
    "collapsed": false,
    "ExecuteTime": {
     "end_time": "2024-03-27T06:32:55.599507500Z",
     "start_time": "2024-03-27T06:32:55.599507500Z"
    }
   },
   "id": "33a1928b6f2675c4",
   "execution_count": 21
  },
  {
   "cell_type": "code",
   "outputs": [],
   "source": [
    "features = Features(\n",
    "    dict(\n",
    "        target=Sequence(\n",
    "            Sequence(Value(\"float32\")), length=len(df.columns)\n",
    "        ),  # multivariate time series are saved as (var, time)\n",
    "        start=Value(\"timestamp[s]\"),\n",
    "        freq=Value(\"string\"),\n",
    "        item_id=Value(\"string\"),\n",
    "    )\n",
    ")"
   ],
   "metadata": {
    "collapsed": false,
    "ExecuteTime": {
     "end_time": "2024-03-27T06:32:55.599507500Z",
     "start_time": "2024-03-27T06:32:55.599507500Z"
    }
   },
   "id": "310a3121cac37e91",
   "execution_count": 22
  },
  {
   "cell_type": "code",
   "outputs": [
    {
     "data": {
      "text/plain": "Generating train split: 0 examples [00:00, ? examples/s]",
      "application/vnd.jupyter.widget-view+json": {
       "version_major": 2,
       "version_minor": 0,
       "model_id": "40db0d759ea042ae85a931f30d472f49"
      }
     },
     "metadata": {},
     "output_type": "display_data"
    },
    {
     "data": {
      "text/plain": "Saving the dataset (0/1 shards):   0%|          | 0/1 [00:00<?, ? examples/s]",
      "application/vnd.jupyter.widget-view+json": {
       "version_major": 2,
       "version_minor": 0,
       "model_id": "48f63ba6922f4fa38ac85f66137e0af8"
      }
     },
     "metadata": {},
     "output_type": "display_data"
    }
   ],
   "source": [
    "hf_dataset = datasets.Dataset.from_generator(\n",
    "    multivar_example_gen_func, features=features\n",
    ")\n",
    "hf_dataset.save_to_disk(\"example_dataset_multi\")"
   ],
   "metadata": {
    "collapsed": false,
    "ExecuteTime": {
     "end_time": "2024-03-27T06:33:08.626758300Z",
     "start_time": "2024-03-27T06:33:08.548265600Z"
    }
   },
   "id": "a85ece72e58e73ec",
   "execution_count": 23
  },
  {
   "cell_type": "markdown",
   "source": [
    "# 3. Inspecting the processed data\n",
    "Let's inspect the processed datasets to ensure that our data has been processed correctly."
   ],
   "metadata": {
    "collapsed": false
   },
   "id": "94516da2a373173"
  },
  {
   "cell_type": "code",
   "outputs": [],
   "source": [
    "# Load datasets with ArrowTableIndexer\n",
    "ds1 = datasets.load_from_disk(\"example_dataset_1\").with_format(\"numpy\")\n",
    "ds2 = datasets.load_from_disk(\"example_dataset_2\").with_format(\"numpy\")\n",
    "ds_multi = datasets.load_from_disk(\"example_dataset_multi\").with_format(\"numpy\")"
   ],
   "metadata": {
    "collapsed": false,
    "ExecuteTime": {
     "end_time": "2024-03-27T06:33:22.059115700Z",
     "start_time": "2024-03-27T06:33:22.011927400Z"
    }
   },
   "id": "d38695048216c6b7",
   "execution_count": 24
  },
  {
   "cell_type": "markdown",
   "source": [
    "```example_dataset_1``` and ```example_dataset_2``` are univariate datasets, which should have 10 time series each, and ```example_dataset_multi``` should be a single multivariate time series (with 10 variates). "
   ],
   "metadata": {
    "collapsed": false
   },
   "id": "6a4b8a2ce586ac80"
  },
  {
   "cell_type": "code",
   "outputs": [
    {
     "data": {
      "text/plain": "(10, 10, 1)"
     },
     "execution_count": 25,
     "metadata": {},
     "output_type": "execute_result"
    }
   ],
   "source": [
    "len(ds1), len(ds2), len(ds_multi)"
   ],
   "metadata": {
    "collapsed": false,
    "ExecuteTime": {
     "end_time": "2024-03-27T06:33:30.923739500Z",
     "start_time": "2024-03-27T06:33:30.877275300Z"
    }
   },
   "id": "25ddb7ccd8cc92cb",
   "execution_count": 25
  },
  {
   "cell_type": "markdown",
   "source": [
    "Inspecting the features returned when we index into a time series from the dataset..."
   ],
   "metadata": {
    "collapsed": false
   },
   "id": "d7dc1ad99802d749"
  },
  {
   "cell_type": "code",
   "outputs": [
    {
     "data": {
      "text/plain": "(dict_keys(['target', 'start', 'freq', 'item_id']),\n dict_keys(['target', 'start', 'freq', 'item_id']),\n dict_keys(['target', 'start', 'freq', 'item_id']))"
     },
     "execution_count": 26,
     "metadata": {},
     "output_type": "execute_result"
    }
   ],
   "source": [
    "ds1[0].keys(), ds2[0].keys(), ds_multi[0].keys()"
   ],
   "metadata": {
    "collapsed": false,
    "ExecuteTime": {
     "end_time": "2024-03-27T06:33:35.375234100Z",
     "start_time": "2024-03-27T06:33:35.319304400Z"
    }
   },
   "id": "525d1b0d246d6441",
   "execution_count": 26
  },
  {
   "cell_type": "markdown",
   "source": [
    "We should get 2 univariate and 1 multivariate target time series..."
   ],
   "metadata": {
    "collapsed": false
   },
   "id": "b8f2b9d043aacf81"
  },
  {
   "cell_type": "code",
   "outputs": [
    {
     "data": {
      "text/plain": "((240,), (240,), (10, 240))"
     },
     "execution_count": 27,
     "metadata": {},
     "output_type": "execute_result"
    }
   ],
   "source": [
    "ds1[0][\"target\"].shape, ds2[0][\"target\"].shape, ds_multi[0][\"target\"].shape"
   ],
   "metadata": {
    "collapsed": false,
    "ExecuteTime": {
     "end_time": "2024-03-27T06:33:39.633713500Z",
     "start_time": "2024-03-27T06:33:39.599469600Z"
    }
   },
   "id": "8ee8290adf1e5475",
   "execution_count": 27
  }
 ],
 "metadata": {
  "kernelspec": {
   "display_name": "Python 3",
   "language": "python",
   "name": "python3"
  },
  "language_info": {
   "codemirror_mode": {
    "name": "ipython",
    "version": 2
   },
   "file_extension": ".py",
   "mimetype": "text/x-python",
   "name": "python",
   "nbconvert_exporter": "python",
   "pygments_lexer": "ipython2",
   "version": "2.7.6"
  }
 },
 "nbformat": 4,
 "nbformat_minor": 5
}
